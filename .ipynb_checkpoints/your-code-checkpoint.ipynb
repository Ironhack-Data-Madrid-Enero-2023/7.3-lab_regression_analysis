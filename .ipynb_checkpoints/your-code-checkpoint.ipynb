{
 "cells": [
  {
   "cell_type": "markdown",
   "metadata": {},
   "source": [
    "# Lab: Regression Analysis"
   ]
  },
  {
   "cell_type": "markdown",
   "metadata": {},
   "source": [
    "### Before you start:\n",
    "\n",
    "* Read the README.md file\n",
    "* Comment as much as you can and use the resources (README.md file) \n",
    "\n",
    "Happy learning!"
   ]
  },
  {
   "cell_type": "code",
   "execution_count": 1,
   "metadata": {},
   "outputs": [],
   "source": [
    "import warnings\n",
    "warnings.filterwarnings('ignore')"
   ]
  },
  {
   "cell_type": "markdown",
   "metadata": {},
   "source": [
    "## Challenge 1\n",
    "I work at a coding bootcamp, and I have developed a theory that the younger my students are, the more often they are late to class. In order to test my hypothesis, I have collected some data in the following table:\n",
    "\n",
    "| StudentID | Age | Tardies |\n",
    "|--------|-----|------------|\n",
    "| 1      | 17  | 10         |\n",
    "| 2      | 51  | 1          |\n",
    "| 3      | 27  | 5          |\n",
    "| 4      | 21  | 9         |\n",
    "| 5      | 36  |  4         |\n",
    "| 6      | 48  |  2         |\n",
    "| 7      | 19  |  9         |\n",
    "| 8      | 26  | 6          |\n",
    "| 9      | 54  |  0         |\n",
    "| 10     | 30  |  3         |"
   ]
  },
  {
   "cell_type": "markdown",
   "metadata": {},
   "source": [
    "Use this command to create a dataframe with the data provided in the table. \n",
    "~~~~\n",
    "student_data = pd.DataFrame({'X': [x_values], 'Y': [y_values]})\n",
    "~~~~"
   ]
  },
  {
   "cell_type": "code",
   "execution_count": 2,
   "metadata": {},
   "outputs": [],
   "source": [
    "import pandas as pd\n",
    "\n",
    "student_data = pd.DataFrame({'X': [17, 51, 27, 21, 36, 48, 19, 26, 54, 30], 'Y': [10, 1, 5, 9, 4, 2, 9, 6, 0, 3]})"
   ]
  },
  {
   "cell_type": "markdown",
   "metadata": {},
   "source": [
    "Draw a dispersion diagram (scatter plot) for the data."
   ]
  },
  {
   "cell_type": "code",
   "execution_count": 3,
   "metadata": {},
   "outputs": [
    {
     "data": {
      "image/png": "[encoded data removed]",
      "text/plain": [
       "<Figure size 640x480 with 1 Axes>"
      ]
     },
     "metadata": {},
     "output_type": "display_data"
    }
   ],
   "source": [
    "import pylab as plt\n",
    "\n",
    "plt.scatter(x=student_data['X'], y=student_data['Y'])\n",
    "\n",
    "plt.xlabel('Age')\n",
    "plt.ylabel('Tardies')\n",
    "plt.title('Student Data Scatter Plot')\n",
    "\n",
    "plt.show()"
   ]
  },
  {
   "cell_type": "markdown",
   "metadata": {},
   "source": [
    "Do you see a trend? Can you make any hypotheses about the relationship between age and number of tardies?"
   ]
  },
  {
   "cell_type": "code",
   "execution_count": 4,
   "metadata": {},
   "outputs": [],
   "source": [
    "# A primer vista parece que existe una relación, de forma que a mas edad se llega tarde menos veces"
   ]
  },
  {
   "cell_type": "markdown",
   "metadata": {},
   "source": [
    "Calculate the covariance and correlation of the variables in your plot. What is the difference between these two measures? Compare their values. What do they tell you in this case? Add your responses as comments after your code."
   ]
  },
  {
   "cell_type": "code",
   "execution_count": 5,
   "metadata": {},
   "outputs": [
    {
     "name": "stdout",
     "output_type": "stream",
     "text": [
      "Covariance: -45.56666666666666\n",
      "Correlation: -0.9391626886887121\n"
     ]
    }
   ],
   "source": [
    "covariance = student_data.cov().iloc[0,1]\n",
    "correlation = student_data.corr().iloc[0,1]\n",
    "\n",
    "print(f'Covariance: {covariance}\\nCorrelation: {correlation}')"
   ]
  },
  {
   "cell_type": "code",
   "execution_count": 6,
   "metadata": {},
   "outputs": [],
   "source": [
    "# Estos datos indican que existe una alta correlación negativa entre las variables, \n",
    "# a la vez que una elevada varianza entre los valores"
   ]
  },
  {
   "cell_type": "markdown",
   "metadata": {},
   "source": [
    "Build a regression model for this data. What will be your outcome variable? What type of regression are you using? Add your responses as comments after your code."
   ]
  },
  {
   "cell_type": "code",
   "execution_count": 7,
   "metadata": {},
   "outputs": [],
   "source": [
    "# Voy a usar una regresión lineal debido a que los datos presentan una línea clara. El resultado esperado\n",
    "# es una alto porcentaje de acierto"
   ]
  },
  {
   "cell_type": "code",
   "execution_count": 8,
   "metadata": {},
   "outputs": [
    {
     "data": {
      "text/html": [
       "<table class=\"simpletable\">\n",
       "<caption>OLS Regression Results</caption>\n",
       "<tr>\n",
       "  <th>Dep. Variable:</th>            <td>Y</td>        <th>  R-squared:         </th> <td>   0.882</td>\n",
       "</tr>\n",
       "<tr>\n",
       "  <th>Model:</th>                   <td>OLS</td>       <th>  Adj. R-squared:    </th> <td>   0.867</td>\n",
       "</tr>\n",
       "<tr>\n",
       "  <th>Method:</th>             <td>Least Squares</td>  <th>  F-statistic:       </th> <td>   59.81</td>\n",
       "</tr>\n",
       "<tr>\n",
       "  <th>Date:</th>             <td>Wed, 01 Mar 2023</td> <th>  Prob (F-statistic):</th> <td>5.57e-05</td>\n",
       "</tr>\n",
       "<tr>\n",
       "  <th>Time:</th>                 <td>15:43:39</td>     <th>  Log-Likelihood:    </th> <td> -15.622</td>\n",
       "</tr>\n",
       "<tr>\n",
       "  <th>No. Observations:</th>      <td>    10</td>      <th>  AIC:               </th> <td>   35.24</td>\n",
       "</tr>\n",
       "<tr>\n",
       "  <th>Df Residuals:</th>          <td>     8</td>      <th>  BIC:               </th> <td>   35.85</td>\n",
       "</tr>\n",
       "<tr>\n",
       "  <th>Df Model:</th>              <td>     1</td>      <th>                     </th>     <td> </td>   \n",
       "</tr>\n",
       "<tr>\n",
       "  <th>Covariance Type:</th>      <td>nonrobust</td>    <th>                     </th>     <td> </td>   \n",
       "</tr>\n",
       "</table>\n",
       "<table class=\"simpletable\">\n",
       "<tr>\n",
       "    <td></td>       <th>coef</th>     <th>std err</th>      <th>t</th>      <th>P>|t|</th>  <th>[0.025</th>    <th>0.975]</th>  \n",
       "</tr>\n",
       "<tr>\n",
       "  <th>const</th> <td>   12.8888</td> <td>    1.111</td> <td>   11.605</td> <td> 0.000</td> <td>   10.328</td> <td>   15.450</td>\n",
       "</tr>\n",
       "<tr>\n",
       "  <th>X</th>     <td>   -0.2428</td> <td>    0.031</td> <td>   -7.734</td> <td> 0.000</td> <td>   -0.315</td> <td>   -0.170</td>\n",
       "</tr>\n",
       "</table>\n",
       "<table class=\"simpletable\">\n",
       "<tr>\n",
       "  <th>Omnibus:</th>       <td> 3.949</td> <th>  Durbin-Watson:     </th> <td>   1.754</td>\n",
       "</tr>\n",
       "<tr>\n",
       "  <th>Prob(Omnibus):</th> <td> 0.139</td> <th>  Jarque-Bera (JB):  </th> <td>   1.714</td>\n",
       "</tr>\n",
       "<tr>\n",
       "  <th>Skew:</th>          <td>-1.014</td> <th>  Prob(JB):          </th> <td>   0.424</td>\n",
       "</tr>\n",
       "<tr>\n",
       "  <th>Kurtosis:</th>      <td> 3.069</td> <th>  Cond. No.          </th> <td>    96.4</td>\n",
       "</tr>\n",
       "</table><br/><br/>Notes:<br/>[1] Standard Errors assume that the covariance matrix of the errors is correctly specified."
      ],
      "text/plain": [
       "<class 'statsmodels.iolib.summary.Summary'>\n",
       "\"\"\"\n",
       "                            OLS Regression Results                            \n",
       "==============================================================================\n",
       "Dep. Variable:                      Y   R-squared:                       0.882\n",
       "Model:                            OLS   Adj. R-squared:                  0.867\n",
       "Method:                 Least Squares   F-statistic:                     59.81\n",
       "Date:                Wed, 01 Mar 2023   Prob (F-statistic):           5.57e-05\n",
       "Time:                        15:43:39   Log-Likelihood:                -15.622\n",
       "No. Observations:                  10   AIC:                             35.24\n",
       "Df Residuals:                       8   BIC:                             35.85\n",
       "Df Model:                           1                                         \n",
       "Covariance Type:            nonrobust                                         \n",
       "==============================================================================\n",
       "                 coef    std err          t      P>|t|      [0.025      0.975]\n",
       "------------------------------------------------------------------------------\n",
       "const         12.8888      1.111     11.605      0.000      10.328      15.450\n",
       "X             -0.2428      0.031     -7.734      0.000      -0.315      -0.170\n",
       "==============================================================================\n",
       "Omnibus:                        3.949   Durbin-Watson:                   1.754\n",
       "Prob(Omnibus):                  0.139   Jarque-Bera (JB):                1.714\n",
       "Skew:                          -1.014   Prob(JB):                        0.424\n",
       "Kurtosis:                       3.069   Cond. No.                         96.4\n",
       "==============================================================================\n",
       "\n",
       "Notes:\n",
       "[1] Standard Errors assume that the covariance matrix of the errors is correctly specified.\n",
       "\"\"\""
      ]
     },
     "execution_count": 8,
     "metadata": {},
     "output_type": "execute_result"
    }
   ],
   "source": [
    "import statsmodels.api as sm\n",
    "from statsmodels.formula.api import ols\n",
    "\n",
    "x = student_data['X']\n",
    "y = student_data['Y']\n",
    "\n",
    "x=sm.add_constant(student_data.X)\n",
    "\n",
    "modelo=sm.OLS(y, x).fit()\n",
    "\n",
    "pred=modelo.predict(x)\n",
    "\n",
    "modelo.summary()"
   ]
  },
  {
   "cell_type": "markdown",
   "metadata": {},
   "source": [
    "Plot your regression model on your scatter plot."
   ]
  },
  {
   "cell_type": "code",
   "execution_count": 9,
   "metadata": {},
   "outputs": [
    {
     "data": {
      "image/png": "[encoded data removed]",
      "text/plain": [
       "<Figure size 640x480 with 1 Axes>"
      ]
     },
     "metadata": {},
     "output_type": "display_data"
    }
   ],
   "source": [
    "import pylab as plt\n",
    "import numpy as np\n",
    "import statsmodels.api as sm\n",
    "\n",
    "x = student_data['X']\n",
    "y = student_data['Y']\n",
    "\n",
    "x = sm.add_constant(student_data.X)\n",
    "\n",
    "modelo = sm.OLS(y, x).fit()\n",
    "\n",
    "pred = modelo.predict(x)\n",
    "\n",
    "plt.scatter(x=student_data['X'], y=student_data['Y'])\n",
    "plt.plot(student_data['X'], pred, c='r')\n",
    "\n",
    "plt.xlabel('Age')\n",
    "plt.ylabel('Tardies')\n",
    "plt.title('Student Data Scatter Plot')\n",
    "\n",
    "plt.show()"
   ]
  },
  {
   "cell_type": "markdown",
   "metadata": {},
   "source": [
    "Interpret the results of your model. What can conclusions can you draw from your model and how confident in these conclusions are you? Can we say that age is a good predictor of tardiness? Add your responses as comments after your code."
   ]
  },
  {
   "cell_type": "code",
   "execution_count": 10,
   "metadata": {},
   "outputs": [],
   "source": [
    "# Viendo el gráfico podemos observar que la edad predice bastante bien el llegar tarde "
   ]
  },
  {
   "cell_type": "markdown",
   "metadata": {},
   "source": [
    "## Challenge 2\n",
    "For the second part of this lab, we will use the vehicles.csv data set. You can find a copy of the dataset in the git hub folder. This dataset includes variables related to vehicle characteristics, including the model, make, and energy efficiency standards, as well as each car's CO2 emissions. As discussed in class the goal of this exercise is to predict vehicles' CO2 emissions based on several independent variables. "
   ]
  },
  {
   "cell_type": "code",
   "execution_count": 11,
   "metadata": {},
   "outputs": [],
   "source": [
    "df = pd.read_csv('vehicles.csv')"
   ]
  },
  {
   "cell_type": "markdown",
   "metadata": {},
   "source": [
    "Let's use the following variables for our analysis: Year, Cylinders, Fuel Barrels/Year, Combined MPG, and Fuel Cost/Year. We will use 'CO2 Emission Grams/Mile' as our outcome variable. \n",
    "\n",
    "Calculate the correlations between each of these variables and the outcome. Which variable do you think will be the most important in determining CO2 emissions? Which provides the least amount of helpful information for determining CO2 emissions? Add your responses as comments after your code."
   ]
  },
  {
   "cell_type": "code",
   "execution_count": 12,
   "metadata": {
    "scrolled": false
   },
   "outputs": [
    {
     "data": {
      "image/png": "[encoded data removed]",
      "text/plain": [
       "<Figure size 1500x1000 with 2 Axes>"
      ]
     },
     "metadata": {},
     "output_type": "display_data"
    }
   ],
   "source": [
    "x = pd.DataFrame(df[['Year', 'Cylinders', 'Fuel Barrels/Year', 'Combined MPG', 'Fuel Cost/Year']])\n",
    "y = pd.DataFrame(df['CO2 Emission Grams/Mile'])\n",
    "\n",
    "xy = x.join(y)\n",
    "\n",
    "import seaborn as sns\n",
    "\n",
    "plt.figure(figsize=(15, 10))\n",
    "\n",
    "sns.set(style='white')\n",
    "\n",
    "mask=np.triu(np.ones_like(xy.corr(), dtype=bool))\n",
    "\n",
    "cmap=sns.diverging_palette(0, 10, as_cmap=True)\n",
    "\n",
    "\n",
    "sns.heatmap(xy.corr(),\n",
    "           mask=mask,\n",
    "          cmap=cmap,\n",
    "          center=0,\n",
    "          square=True,\n",
    "          annot=True,\n",
    "          linewidths=0.5,\n",
    "          cbar_kws={'shrink': 0.5});"
   ]
  },
  {
   "cell_type": "code",
   "execution_count": 13,
   "metadata": {},
   "outputs": [],
   "source": [
    "# Parece que 'Fuel Barrels/Year' y Fuel Cost/Year van a ser las variables que más expliquen a y"
   ]
  },
  {
   "cell_type": "markdown",
   "metadata": {},
   "source": [
    "Build a regression model for this data. What type of regression are you using? Add your responses as comments after your code."
   ]
  },
  {
   "cell_type": "code",
   "execution_count": 14,
   "metadata": {},
   "outputs": [
    {
     "data": {
      "text/html": [
       "<style type=\"text/css\">\n",
       "#T_8da9d_row8_col1 {\n",
       "  background-color: lightgreen;\n",
       "}\n",
       "</style>\n",
       "<table id=\"T_8da9d\">\n",
       "  <thead>\n",
       "    <tr>\n",
       "      <th class=\"blank level0\" >&nbsp;</th>\n",
       "      <th id=\"T_8da9d_level0_col0\" class=\"col_heading level0 col0\" >Description</th>\n",
       "      <th id=\"T_8da9d_level0_col1\" class=\"col_heading level0 col1\" >Value</th>\n",
       "    </tr>\n",
       "  </thead>\n",
       "  <tbody>\n",
       "    <tr>\n",
       "      <th id=\"T_8da9d_level0_row0\" class=\"row_heading level0 row0\" >0</th>\n",
       "      <td id=\"T_8da9d_row0_col0\" class=\"data row0 col0\" >Session id</td>\n",
       "      <td id=\"T_8da9d_row0_col1\" class=\"data row0 col1\" >1</td>\n",
       "    </tr>\n",
       "    <tr>\n",
       "      <th id=\"T_8da9d_level0_row1\" class=\"row_heading level0 row1\" >1</th>\n",
       "      <td id=\"T_8da9d_row1_col0\" class=\"data row1 col0\" >Target</td>\n",
       "      <td id=\"T_8da9d_row1_col1\" class=\"data row1 col1\" >CO2 Emission Grams/Mile</td>\n",
       "    </tr>\n",
       "    <tr>\n",
       "      <th id=\"T_8da9d_level0_row2\" class=\"row_heading level0 row2\" >2</th>\n",
       "      <td id=\"T_8da9d_row2_col0\" class=\"data row2 col0\" >Target type</td>\n",
       "      <td id=\"T_8da9d_row2_col1\" class=\"data row2 col1\" >Regression</td>\n",
       "    </tr>\n",
       "    <tr>\n",
       "      <th id=\"T_8da9d_level0_row3\" class=\"row_heading level0 row3\" >3</th>\n",
       "      <td id=\"T_8da9d_row3_col0\" class=\"data row3 col0\" >Original data shape</td>\n",
       "      <td id=\"T_8da9d_row3_col1\" class=\"data row3 col1\" >(35952, 6)</td>\n",
       "    </tr>\n",
       "    <tr>\n",
       "      <th id=\"T_8da9d_level0_row4\" class=\"row_heading level0 row4\" >4</th>\n",
       "      <td id=\"T_8da9d_row4_col0\" class=\"data row4 col0\" >Transformed data shape</td>\n",
       "      <td id=\"T_8da9d_row4_col1\" class=\"data row4 col1\" >(35952, 6)</td>\n",
       "    </tr>\n",
       "    <tr>\n",
       "      <th id=\"T_8da9d_level0_row5\" class=\"row_heading level0 row5\" >5</th>\n",
       "      <td id=\"T_8da9d_row5_col0\" class=\"data row5 col0\" >Transformed train set shape</td>\n",
       "      <td id=\"T_8da9d_row5_col1\" class=\"data row5 col1\" >(25166, 6)</td>\n",
       "    </tr>\n",
       "    <tr>\n",
       "      <th id=\"T_8da9d_level0_row6\" class=\"row_heading level0 row6\" >6</th>\n",
       "      <td id=\"T_8da9d_row6_col0\" class=\"data row6 col0\" >Transformed test set shape</td>\n",
       "      <td id=\"T_8da9d_row6_col1\" class=\"data row6 col1\" >(10786, 6)</td>\n",
       "    </tr>\n",
       "    <tr>\n",
       "      <th id=\"T_8da9d_level0_row7\" class=\"row_heading level0 row7\" >7</th>\n",
       "      <td id=\"T_8da9d_row7_col0\" class=\"data row7 col0\" >Numeric features</td>\n",
       "      <td id=\"T_8da9d_row7_col1\" class=\"data row7 col1\" >5</td>\n",
       "    </tr>\n",
       "    <tr>\n",
       "      <th id=\"T_8da9d_level0_row8\" class=\"row_heading level0 row8\" >8</th>\n",
       "      <td id=\"T_8da9d_row8_col0\" class=\"data row8 col0\" >Preprocess</td>\n",
       "      <td id=\"T_8da9d_row8_col1\" class=\"data row8 col1\" >True</td>\n",
       "    </tr>\n",
       "    <tr>\n",
       "      <th id=\"T_8da9d_level0_row9\" class=\"row_heading level0 row9\" >9</th>\n",
       "      <td id=\"T_8da9d_row9_col0\" class=\"data row9 col0\" >Imputation type</td>\n",
       "      <td id=\"T_8da9d_row9_col1\" class=\"data row9 col1\" >simple</td>\n",
       "    </tr>\n",
       "    <tr>\n",
       "      <th id=\"T_8da9d_level0_row10\" class=\"row_heading level0 row10\" >10</th>\n",
       "      <td id=\"T_8da9d_row10_col0\" class=\"data row10 col0\" >Numeric imputation</td>\n",
       "      <td id=\"T_8da9d_row10_col1\" class=\"data row10 col1\" >mean</td>\n",
       "    </tr>\n",
       "    <tr>\n",
       "      <th id=\"T_8da9d_level0_row11\" class=\"row_heading level0 row11\" >11</th>\n",
       "      <td id=\"T_8da9d_row11_col0\" class=\"data row11 col0\" >Categorical imputation</td>\n",
       "      <td id=\"T_8da9d_row11_col1\" class=\"data row11 col1\" >mode</td>\n",
       "    </tr>\n",
       "    <tr>\n",
       "      <th id=\"T_8da9d_level0_row12\" class=\"row_heading level0 row12\" >12</th>\n",
       "      <td id=\"T_8da9d_row12_col0\" class=\"data row12 col0\" >Fold Generator</td>\n",
       "      <td id=\"T_8da9d_row12_col1\" class=\"data row12 col1\" >KFold</td>\n",
       "    </tr>\n",
       "    <tr>\n",
       "      <th id=\"T_8da9d_level0_row13\" class=\"row_heading level0 row13\" >13</th>\n",
       "      <td id=\"T_8da9d_row13_col0\" class=\"data row13 col0\" >Fold Number</td>\n",
       "      <td id=\"T_8da9d_row13_col1\" class=\"data row13 col1\" >10</td>\n",
       "    </tr>\n",
       "    <tr>\n",
       "      <th id=\"T_8da9d_level0_row14\" class=\"row_heading level0 row14\" >14</th>\n",
       "      <td id=\"T_8da9d_row14_col0\" class=\"data row14 col0\" >CPU Jobs</td>\n",
       "      <td id=\"T_8da9d_row14_col1\" class=\"data row14 col1\" >-1</td>\n",
       "    </tr>\n",
       "    <tr>\n",
       "      <th id=\"T_8da9d_level0_row15\" class=\"row_heading level0 row15\" >15</th>\n",
       "      <td id=\"T_8da9d_row15_col0\" class=\"data row15 col0\" >Use GPU</td>\n",
       "      <td id=\"T_8da9d_row15_col1\" class=\"data row15 col1\" >False</td>\n",
       "    </tr>\n",
       "    <tr>\n",
       "      <th id=\"T_8da9d_level0_row16\" class=\"row_heading level0 row16\" >16</th>\n",
       "      <td id=\"T_8da9d_row16_col0\" class=\"data row16 col0\" >Log Experiment</td>\n",
       "      <td id=\"T_8da9d_row16_col1\" class=\"data row16 col1\" >False</td>\n",
       "    </tr>\n",
       "    <tr>\n",
       "      <th id=\"T_8da9d_level0_row17\" class=\"row_heading level0 row17\" >17</th>\n",
       "      <td id=\"T_8da9d_row17_col0\" class=\"data row17 col0\" >Experiment Name</td>\n",
       "      <td id=\"T_8da9d_row17_col1\" class=\"data row17 col1\" >reg-default-name</td>\n",
       "    </tr>\n",
       "    <tr>\n",
       "      <th id=\"T_8da9d_level0_row18\" class=\"row_heading level0 row18\" >18</th>\n",
       "      <td id=\"T_8da9d_row18_col0\" class=\"data row18 col0\" >USI</td>\n",
       "      <td id=\"T_8da9d_row18_col1\" class=\"data row18 col1\" >8799</td>\n",
       "    </tr>\n",
       "  </tbody>\n",
       "</table>\n"
      ],
      "text/plain": [
       "<pandas.io.formats.style.Styler at 0x7fc659df5c70>"
      ]
     },
     "metadata": {},
     "output_type": "display_data"
    },
    {
     "data": {
      "text/html": [],
      "text/plain": [
       "<IPython.core.display.HTML object>"
      ]
     },
     "metadata": {},
     "output_type": "display_data"
    },
    {
     "data": {
      "text/html": [
       "<style type=\"text/css\">\n",
       "#T_4ed5d th {\n",
       "  text-align: left;\n",
       "}\n",
       "#T_4ed5d_row0_col0, #T_4ed5d_row0_col2, #T_4ed5d_row0_col3, #T_4ed5d_row1_col0, #T_4ed5d_row1_col1, #T_4ed5d_row1_col2, #T_4ed5d_row1_col3, #T_4ed5d_row1_col5, #T_4ed5d_row2_col0, #T_4ed5d_row2_col1, #T_4ed5d_row2_col5, #T_4ed5d_row2_col6, #T_4ed5d_row3_col0, #T_4ed5d_row3_col1, #T_4ed5d_row3_col2, #T_4ed5d_row3_col3, #T_4ed5d_row3_col4, #T_4ed5d_row3_col5, #T_4ed5d_row3_col6, #T_4ed5d_row4_col0, #T_4ed5d_row4_col1, #T_4ed5d_row4_col2, #T_4ed5d_row4_col3, #T_4ed5d_row4_col4, #T_4ed5d_row4_col5, #T_4ed5d_row4_col6, #T_4ed5d_row5_col0, #T_4ed5d_row5_col1, #T_4ed5d_row5_col2, #T_4ed5d_row5_col3, #T_4ed5d_row5_col4, #T_4ed5d_row5_col5, #T_4ed5d_row5_col6, #T_4ed5d_row6_col0, #T_4ed5d_row6_col1, #T_4ed5d_row6_col2, #T_4ed5d_row6_col3, #T_4ed5d_row6_col4, #T_4ed5d_row6_col5, #T_4ed5d_row6_col6, #T_4ed5d_row7_col0, #T_4ed5d_row7_col1, #T_4ed5d_row7_col2, #T_4ed5d_row7_col3, #T_4ed5d_row7_col4, #T_4ed5d_row7_col5, #T_4ed5d_row7_col6, #T_4ed5d_row8_col0, #T_4ed5d_row8_col1, #T_4ed5d_row8_col2, #T_4ed5d_row8_col3, #T_4ed5d_row8_col4, #T_4ed5d_row8_col5, #T_4ed5d_row8_col6, #T_4ed5d_row9_col0, #T_4ed5d_row9_col1, #T_4ed5d_row9_col2, #T_4ed5d_row9_col3, #T_4ed5d_row9_col4, #T_4ed5d_row9_col5, #T_4ed5d_row9_col6, #T_4ed5d_row10_col0, #T_4ed5d_row10_col1, #T_4ed5d_row10_col2, #T_4ed5d_row10_col3, #T_4ed5d_row10_col4, #T_4ed5d_row10_col5, #T_4ed5d_row10_col6, #T_4ed5d_row11_col0, #T_4ed5d_row11_col1, #T_4ed5d_row11_col2, #T_4ed5d_row11_col3, #T_4ed5d_row11_col4, #T_4ed5d_row11_col5, #T_4ed5d_row11_col6, #T_4ed5d_row12_col0, #T_4ed5d_row12_col1, #T_4ed5d_row12_col2, #T_4ed5d_row12_col3, #T_4ed5d_row12_col4, #T_4ed5d_row12_col5, #T_4ed5d_row12_col6, #T_4ed5d_row13_col0, #T_4ed5d_row13_col1, #T_4ed5d_row13_col2, #T_4ed5d_row13_col3, #T_4ed5d_row13_col4, #T_4ed5d_row13_col5, #T_4ed5d_row13_col6, #T_4ed5d_row14_col0, #T_4ed5d_row14_col1, #T_4ed5d_row14_col2, #T_4ed5d_row14_col3, #T_4ed5d_row14_col4, #T_4ed5d_row14_col5, #T_4ed5d_row14_col6, #T_4ed5d_row15_col0, #T_4ed5d_row15_col1, #T_4ed5d_row15_col2, #T_4ed5d_row15_col3, #T_4ed5d_row15_col4, #T_4ed5d_row15_col5, #T_4ed5d_row15_col6, #T_4ed5d_row16_col0, #T_4ed5d_row16_col1, #T_4ed5d_row16_col2, #T_4ed5d_row16_col3, #T_4ed5d_row16_col4, #T_4ed5d_row16_col5, #T_4ed5d_row16_col6, #T_4ed5d_row17_col0, #T_4ed5d_row17_col1, #T_4ed5d_row17_col2, #T_4ed5d_row17_col3, #T_4ed5d_row17_col4, #T_4ed5d_row17_col5, #T_4ed5d_row17_col6 {\n",
       "  text-align: left;\n",
       "}\n",
       "#T_4ed5d_row0_col1, #T_4ed5d_row0_col4, #T_4ed5d_row0_col5, #T_4ed5d_row0_col6, #T_4ed5d_row1_col4, #T_4ed5d_row1_col6, #T_4ed5d_row2_col2, #T_4ed5d_row2_col3, #T_4ed5d_row2_col4 {\n",
       "  text-align: left;\n",
       "  background-color: yellow;\n",
       "}\n",
       "#T_4ed5d_row0_col7, #T_4ed5d_row1_col7, #T_4ed5d_row2_col7, #T_4ed5d_row3_col7, #T_4ed5d_row4_col7, #T_4ed5d_row5_col7, #T_4ed5d_row6_col7, #T_4ed5d_row8_col7, #T_4ed5d_row9_col7, #T_4ed5d_row10_col7, #T_4ed5d_row11_col7, #T_4ed5d_row12_col7, #T_4ed5d_row13_col7, #T_4ed5d_row14_col7, #T_4ed5d_row15_col7 {\n",
       "  text-align: left;\n",
       "  background-color: lightgrey;\n",
       "}\n",
       "#T_4ed5d_row7_col7, #T_4ed5d_row16_col7, #T_4ed5d_row17_col7 {\n",
       "  text-align: left;\n",
       "  background-color: yellow;\n",
       "  background-color: lightgrey;\n",
       "}\n",
       "</style>\n",
       "<table id=\"T_4ed5d\">\n",
       "  <thead>\n",
       "    <tr>\n",
       "      <th class=\"blank level0\" >&nbsp;</th>\n",
       "      <th id=\"T_4ed5d_level0_col0\" class=\"col_heading level0 col0\" >Model</th>\n",
       "      <th id=\"T_4ed5d_level0_col1\" class=\"col_heading level0 col1\" >MAE</th>\n",
       "      <th id=\"T_4ed5d_level0_col2\" class=\"col_heading level0 col2\" >MSE</th>\n",
       "      <th id=\"T_4ed5d_level0_col3\" class=\"col_heading level0 col3\" >RMSE</th>\n",
       "      <th id=\"T_4ed5d_level0_col4\" class=\"col_heading level0 col4\" >R2</th>\n",
       "      <th id=\"T_4ed5d_level0_col5\" class=\"col_heading level0 col5\" >RMSLE</th>\n",
       "      <th id=\"T_4ed5d_level0_col6\" class=\"col_heading level0 col6\" >MAPE</th>\n",
       "      <th id=\"T_4ed5d_level0_col7\" class=\"col_heading level0 col7\" >TT (Sec)</th>\n",
       "    </tr>\n",
       "  </thead>\n",
       "  <tbody>\n",
       "    <tr>\n",
       "      <th id=\"T_4ed5d_level0_row0\" class=\"row_heading level0 row0\" >dt</th>\n",
       "      <td id=\"T_4ed5d_row0_col0\" class=\"data row0 col0\" >Decision Tree Regressor</td>\n",
       "      <td id=\"T_4ed5d_row0_col1\" class=\"data row0 col1\" >0.8365</td>\n",
       "      <td id=\"T_4ed5d_row0_col2\" class=\"data row0 col2\" >9.1494</td>\n",
       "      <td id=\"T_4ed5d_row0_col3\" class=\"data row0 col3\" >3.0174</td>\n",
       "      <td id=\"T_4ed5d_row0_col4\" class=\"data row0 col4\" >0.9994</td>\n",
       "      <td id=\"T_4ed5d_row0_col5\" class=\"data row0 col5\" >0.0074</td>\n",
       "      <td id=\"T_4ed5d_row0_col6\" class=\"data row0 col6\" >0.0020</td>\n",
       "      <td id=\"T_4ed5d_row0_col7\" class=\"data row0 col7\" >0.0230</td>\n",
       "    </tr>\n",
       "    <tr>\n",
       "      <th id=\"T_4ed5d_level0_row1\" class=\"row_heading level0 row1\" >et</th>\n",
       "      <td id=\"T_4ed5d_row1_col0\" class=\"data row1 col0\" >Extra Trees Regressor</td>\n",
       "      <td id=\"T_4ed5d_row1_col1\" class=\"data row1 col1\" >0.8410</td>\n",
       "      <td id=\"T_4ed5d_row1_col2\" class=\"data row1 col2\" >9.1964</td>\n",
       "      <td id=\"T_4ed5d_row1_col3\" class=\"data row1 col3\" >3.0231</td>\n",
       "      <td id=\"T_4ed5d_row1_col4\" class=\"data row1 col4\" >0.9994</td>\n",
       "      <td id=\"T_4ed5d_row1_col5\" class=\"data row1 col5\" >0.0081</td>\n",
       "      <td id=\"T_4ed5d_row1_col6\" class=\"data row1 col6\" >0.0020</td>\n",
       "      <td id=\"T_4ed5d_row1_col7\" class=\"data row1 col7\" >0.0720</td>\n",
       "    </tr>\n",
       "    <tr>\n",
       "      <th id=\"T_4ed5d_level0_row2\" class=\"row_heading level0 row2\" >rf</th>\n",
       "      <td id=\"T_4ed5d_row2_col0\" class=\"data row2 col0\" >Random Forest Regressor</td>\n",
       "      <td id=\"T_4ed5d_row2_col1\" class=\"data row2 col1\" >0.8419</td>\n",
       "      <td id=\"T_4ed5d_row2_col2\" class=\"data row2 col2\" >8.6303</td>\n",
       "      <td id=\"T_4ed5d_row2_col3\" class=\"data row2 col3\" >2.9314</td>\n",
       "      <td id=\"T_4ed5d_row2_col4\" class=\"data row2 col4\" >0.9994</td>\n",
       "      <td id=\"T_4ed5d_row2_col5\" class=\"data row2 col5\" >0.0083</td>\n",
       "      <td id=\"T_4ed5d_row2_col6\" class=\"data row2 col6\" >0.0021</td>\n",
       "      <td id=\"T_4ed5d_row2_col7\" class=\"data row2 col7\" >0.0500</td>\n",
       "    </tr>\n",
       "    <tr>\n",
       "      <th id=\"T_4ed5d_level0_row3\" class=\"row_heading level0 row3\" >gbr</th>\n",
       "      <td id=\"T_4ed5d_row3_col0\" class=\"data row3 col0\" >Gradient Boosting Regressor</td>\n",
       "      <td id=\"T_4ed5d_row3_col1\" class=\"data row3 col1\" >1.1295</td>\n",
       "      <td id=\"T_4ed5d_row3_col2\" class=\"data row3 col2\" >9.9576</td>\n",
       "      <td id=\"T_4ed5d_row3_col3\" class=\"data row3 col3\" >3.1508</td>\n",
       "      <td id=\"T_4ed5d_row3_col4\" class=\"data row3 col4\" >0.9993</td>\n",
       "      <td id=\"T_4ed5d_row3_col5\" class=\"data row3 col5\" >0.0091</td>\n",
       "      <td id=\"T_4ed5d_row3_col6\" class=\"data row3 col6\" >0.0027</td>\n",
       "      <td id=\"T_4ed5d_row3_col7\" class=\"data row3 col7\" >0.0310</td>\n",
       "    </tr>\n",
       "    <tr>\n",
       "      <th id=\"T_4ed5d_level0_row4\" class=\"row_heading level0 row4\" >lightgbm</th>\n",
       "      <td id=\"T_4ed5d_row4_col0\" class=\"data row4 col0\" >Light Gradient Boosting Machine</td>\n",
       "      <td id=\"T_4ed5d_row4_col1\" class=\"data row4 col1\" >1.0351</td>\n",
       "      <td id=\"T_4ed5d_row4_col2\" class=\"data row4 col2\" >20.5866</td>\n",
       "      <td id=\"T_4ed5d_row4_col3\" class=\"data row4 col3\" >4.4089</td>\n",
       "      <td id=\"T_4ed5d_row4_col4\" class=\"data row4 col4\" >0.9986</td>\n",
       "      <td id=\"T_4ed5d_row4_col5\" class=\"data row4 col5\" >0.0119</td>\n",
       "      <td id=\"T_4ed5d_row4_col6\" class=\"data row4 col6\" >0.0026</td>\n",
       "      <td id=\"T_4ed5d_row4_col7\" class=\"data row4 col7\" >0.1740</td>\n",
       "    </tr>\n",
       "    <tr>\n",
       "      <th id=\"T_4ed5d_level0_row5\" class=\"row_heading level0 row5\" >knn</th>\n",
       "      <td id=\"T_4ed5d_row5_col0\" class=\"data row5 col0\" >K Neighbors Regressor</td>\n",
       "      <td id=\"T_4ed5d_row5_col1\" class=\"data row5 col1\" >1.1703</td>\n",
       "      <td id=\"T_4ed5d_row5_col2\" class=\"data row5 col2\" >31.8796</td>\n",
       "      <td id=\"T_4ed5d_row5_col3\" class=\"data row5 col3\" >5.5497</td>\n",
       "      <td id=\"T_4ed5d_row5_col4\" class=\"data row5 col4\" >0.9978</td>\n",
       "      <td id=\"T_4ed5d_row5_col5\" class=\"data row5 col5\" >0.0247</td>\n",
       "      <td id=\"T_4ed5d_row5_col6\" class=\"data row5 col6\" >0.0037</td>\n",
       "      <td id=\"T_4ed5d_row5_col7\" class=\"data row5 col7\" >0.0330</td>\n",
       "    </tr>\n",
       "    <tr>\n",
       "      <th id=\"T_4ed5d_level0_row6\" class=\"row_heading level0 row6\" >ridge</th>\n",
       "      <td id=\"T_4ed5d_row6_col0\" class=\"data row6 col0\" >Ridge Regression</td>\n",
       "      <td id=\"T_4ed5d_row6_col1\" class=\"data row6 col1\" >8.2054</td>\n",
       "      <td id=\"T_4ed5d_row6_col2\" class=\"data row6 col2\" >307.3619</td>\n",
       "      <td id=\"T_4ed5d_row6_col3\" class=\"data row6 col3\" >17.1735</td>\n",
       "      <td id=\"T_4ed5d_row6_col4\" class=\"data row6 col4\" >0.9783</td>\n",
       "      <td id=\"T_4ed5d_row6_col5\" class=\"data row6 col5\" >0.0523</td>\n",
       "      <td id=\"T_4ed5d_row6_col6\" class=\"data row6 col6\" >0.0183</td>\n",
       "      <td id=\"T_4ed5d_row6_col7\" class=\"data row6 col7\" >0.0240</td>\n",
       "    </tr>\n",
       "    <tr>\n",
       "      <th id=\"T_4ed5d_level0_row7\" class=\"row_heading level0 row7\" >lar</th>\n",
       "      <td id=\"T_4ed5d_row7_col0\" class=\"data row7 col0\" >Least Angle Regression</td>\n",
       "      <td id=\"T_4ed5d_row7_col1\" class=\"data row7 col1\" >8.2051</td>\n",
       "      <td id=\"T_4ed5d_row7_col2\" class=\"data row7 col2\" >307.3623</td>\n",
       "      <td id=\"T_4ed5d_row7_col3\" class=\"data row7 col3\" >17.1735</td>\n",
       "      <td id=\"T_4ed5d_row7_col4\" class=\"data row7 col4\" >0.9783</td>\n",
       "      <td id=\"T_4ed5d_row7_col5\" class=\"data row7 col5\" >0.0523</td>\n",
       "      <td id=\"T_4ed5d_row7_col6\" class=\"data row7 col6\" >0.0183</td>\n",
       "      <td id=\"T_4ed5d_row7_col7\" class=\"data row7 col7\" >0.0200</td>\n",
       "    </tr>\n",
       "    <tr>\n",
       "      <th id=\"T_4ed5d_level0_row8\" class=\"row_heading level0 row8\" >br</th>\n",
       "      <td id=\"T_4ed5d_row8_col0\" class=\"data row8 col0\" >Bayesian Ridge</td>\n",
       "      <td id=\"T_4ed5d_row8_col1\" class=\"data row8 col1\" >8.2064</td>\n",
       "      <td id=\"T_4ed5d_row8_col2\" class=\"data row8 col2\" >307.3626</td>\n",
       "      <td id=\"T_4ed5d_row8_col3\" class=\"data row8 col3\" >17.1736</td>\n",
       "      <td id=\"T_4ed5d_row8_col4\" class=\"data row8 col4\" >0.9783</td>\n",
       "      <td id=\"T_4ed5d_row8_col5\" class=\"data row8 col5\" >0.0523</td>\n",
       "      <td id=\"T_4ed5d_row8_col6\" class=\"data row8 col6\" >0.0183</td>\n",
       "      <td id=\"T_4ed5d_row8_col7\" class=\"data row8 col7\" >0.0210</td>\n",
       "    </tr>\n",
       "    <tr>\n",
       "      <th id=\"T_4ed5d_level0_row9\" class=\"row_heading level0 row9\" >lasso</th>\n",
       "      <td id=\"T_4ed5d_row9_col0\" class=\"data row9 col0\" >Lasso Regression</td>\n",
       "      <td id=\"T_4ed5d_row9_col1\" class=\"data row9 col1\" >8.4176</td>\n",
       "      <td id=\"T_4ed5d_row9_col2\" class=\"data row9 col2\" >308.2793</td>\n",
       "      <td id=\"T_4ed5d_row9_col3\" class=\"data row9 col3\" >17.2172</td>\n",
       "      <td id=\"T_4ed5d_row9_col4\" class=\"data row9 col4\" >0.9783</td>\n",
       "      <td id=\"T_4ed5d_row9_col5\" class=\"data row9 col5\" >0.0519</td>\n",
       "      <td id=\"T_4ed5d_row9_col6\" class=\"data row9 col6\" >0.0187</td>\n",
       "      <td id=\"T_4ed5d_row9_col7\" class=\"data row9 col7\" >0.3660</td>\n",
       "    </tr>\n",
       "    <tr>\n",
       "      <th id=\"T_4ed5d_level0_row10\" class=\"row_heading level0 row10\" >lr</th>\n",
       "      <td id=\"T_4ed5d_row10_col0\" class=\"data row10 col0\" >Linear Regression</td>\n",
       "      <td id=\"T_4ed5d_row10_col1\" class=\"data row10 col1\" >8.2051</td>\n",
       "      <td id=\"T_4ed5d_row10_col2\" class=\"data row10 col2\" >307.3623</td>\n",
       "      <td id=\"T_4ed5d_row10_col3\" class=\"data row10 col3\" >17.1735</td>\n",
       "      <td id=\"T_4ed5d_row10_col4\" class=\"data row10 col4\" >0.9783</td>\n",
       "      <td id=\"T_4ed5d_row10_col5\" class=\"data row10 col5\" >0.0523</td>\n",
       "      <td id=\"T_4ed5d_row10_col6\" class=\"data row10 col6\" >0.0183</td>\n",
       "      <td id=\"T_4ed5d_row10_col7\" class=\"data row10 col7\" >0.9100</td>\n",
       "    </tr>\n",
       "    <tr>\n",
       "      <th id=\"T_4ed5d_level0_row11\" class=\"row_heading level0 row11\" >en</th>\n",
       "      <td id=\"T_4ed5d_row11_col0\" class=\"data row11 col0\" >Elastic Net</td>\n",
       "      <td id=\"T_4ed5d_row11_col1\" class=\"data row11 col1\" >11.0853</td>\n",
       "      <td id=\"T_4ed5d_row11_col2\" class=\"data row11 col2\" >328.9232</td>\n",
       "      <td id=\"T_4ed5d_row11_col3\" class=\"data row11 col3\" >17.9941</td>\n",
       "      <td id=\"T_4ed5d_row11_col4\" class=\"data row11 col4\" >0.9768</td>\n",
       "      <td id=\"T_4ed5d_row11_col5\" class=\"data row11 col5\" >0.0490</td>\n",
       "      <td id=\"T_4ed5d_row11_col6\" class=\"data row11 col6\" >0.0244</td>\n",
       "      <td id=\"T_4ed5d_row11_col7\" class=\"data row11 col7\" >0.0240</td>\n",
       "    </tr>\n",
       "    <tr>\n",
       "      <th id=\"T_4ed5d_level0_row12\" class=\"row_heading level0 row12\" >ada</th>\n",
       "      <td id=\"T_4ed5d_row12_col0\" class=\"data row12 col0\" >AdaBoost Regressor</td>\n",
       "      <td id=\"T_4ed5d_row12_col1\" class=\"data row12 col1\" >15.6696</td>\n",
       "      <td id=\"T_4ed5d_row12_col2\" class=\"data row12 col2\" >376.1688</td>\n",
       "      <td id=\"T_4ed5d_row12_col3\" class=\"data row12 col3\" >19.3566</td>\n",
       "      <td id=\"T_4ed5d_row12_col4\" class=\"data row12 col4\" >0.9735</td>\n",
       "      <td id=\"T_4ed5d_row12_col5\" class=\"data row12 col5\" >0.0426</td>\n",
       "      <td id=\"T_4ed5d_row12_col6\" class=\"data row12 col6\" >0.0331</td>\n",
       "      <td id=\"T_4ed5d_row12_col7\" class=\"data row12 col7\" >0.0330</td>\n",
       "    </tr>\n",
       "    <tr>\n",
       "      <th id=\"T_4ed5d_level0_row13\" class=\"row_heading level0 row13\" >omp</th>\n",
       "      <td id=\"T_4ed5d_row13_col0\" class=\"data row13 col0\" >Orthogonal Matching Pursuit</td>\n",
       "      <td id=\"T_4ed5d_row13_col1\" class=\"data row13 col1\" >4.1288</td>\n",
       "      <td id=\"T_4ed5d_row13_col2\" class=\"data row13 col2\" >451.0281</td>\n",
       "      <td id=\"T_4ed5d_row13_col3\" class=\"data row13 col3\" >20.3123</td>\n",
       "      <td id=\"T_4ed5d_row13_col4\" class=\"data row13 col4\" >0.9681</td>\n",
       "      <td id=\"T_4ed5d_row13_col5\" class=\"data row13 col5\" >0.1345</td>\n",
       "      <td id=\"T_4ed5d_row13_col6\" class=\"data row13 col6\" >0.0095</td>\n",
       "      <td id=\"T_4ed5d_row13_col7\" class=\"data row13 col7\" >0.0210</td>\n",
       "    </tr>\n",
       "    <tr>\n",
       "      <th id=\"T_4ed5d_level0_row14\" class=\"row_heading level0 row14\" >huber</th>\n",
       "      <td id=\"T_4ed5d_row14_col0\" class=\"data row14 col0\" >Huber Regressor</td>\n",
       "      <td id=\"T_4ed5d_row14_col1\" class=\"data row14 col1\" >1.8646</td>\n",
       "      <td id=\"T_4ed5d_row14_col2\" class=\"data row14 col2\" >461.8706</td>\n",
       "      <td id=\"T_4ed5d_row14_col3\" class=\"data row14 col3\" >20.5157</td>\n",
       "      <td id=\"T_4ed5d_row14_col4\" class=\"data row14 col4\" >0.9673</td>\n",
       "      <td id=\"T_4ed5d_row14_col5\" class=\"data row14 col5\" >0.1947</td>\n",
       "      <td id=\"T_4ed5d_row14_col6\" class=\"data row14 col6\" >0.0042</td>\n",
       "      <td id=\"T_4ed5d_row14_col7\" class=\"data row14 col7\" >0.0230</td>\n",
       "    </tr>\n",
       "    <tr>\n",
       "      <th id=\"T_4ed5d_level0_row15\" class=\"row_heading level0 row15\" >par</th>\n",
       "      <td id=\"T_4ed5d_row15_col0\" class=\"data row15 col0\" >Passive Aggressive Regressor</td>\n",
       "      <td id=\"T_4ed5d_row15_col1\" class=\"data row15 col1\" >14.6726</td>\n",
       "      <td id=\"T_4ed5d_row15_col2\" class=\"data row15 col2\" >519.8534</td>\n",
       "      <td id=\"T_4ed5d_row15_col3\" class=\"data row15 col3\" >22.3276</td>\n",
       "      <td id=\"T_4ed5d_row15_col4\" class=\"data row15 col4\" >0.9633</td>\n",
       "      <td id=\"T_4ed5d_row15_col5\" class=\"data row15 col5\" >0.0588</td>\n",
       "      <td id=\"T_4ed5d_row15_col6\" class=\"data row15 col6\" >0.0317</td>\n",
       "      <td id=\"T_4ed5d_row15_col7\" class=\"data row15 col7\" >0.0250</td>\n",
       "    </tr>\n",
       "    <tr>\n",
       "      <th id=\"T_4ed5d_level0_row16\" class=\"row_heading level0 row16\" >llar</th>\n",
       "      <td id=\"T_4ed5d_row16_col0\" class=\"data row16 col0\" >Lasso Least Angle Regression</td>\n",
       "      <td id=\"T_4ed5d_row16_col1\" class=\"data row16 col1\" >92.6283</td>\n",
       "      <td id=\"T_4ed5d_row16_col2\" class=\"data row16 col2\" >14254.8609</td>\n",
       "      <td id=\"T_4ed5d_row16_col3\" class=\"data row16 col3\" >119.3634</td>\n",
       "      <td id=\"T_4ed5d_row16_col4\" class=\"data row16 col4\" >-0.0005</td>\n",
       "      <td id=\"T_4ed5d_row16_col5\" class=\"data row16 col5\" >0.2532</td>\n",
       "      <td id=\"T_4ed5d_row16_col6\" class=\"data row16 col6\" >0.2106</td>\n",
       "      <td id=\"T_4ed5d_row16_col7\" class=\"data row16 col7\" >0.0200</td>\n",
       "    </tr>\n",
       "    <tr>\n",
       "      <th id=\"T_4ed5d_level0_row17\" class=\"row_heading level0 row17\" >dummy</th>\n",
       "      <td id=\"T_4ed5d_row17_col0\" class=\"data row17 col0\" >Dummy Regressor</td>\n",
       "      <td id=\"T_4ed5d_row17_col1\" class=\"data row17 col1\" >92.6283</td>\n",
       "      <td id=\"T_4ed5d_row17_col2\" class=\"data row17 col2\" >14254.8609</td>\n",
       "      <td id=\"T_4ed5d_row17_col3\" class=\"data row17 col3\" >119.3634</td>\n",
       "      <td id=\"T_4ed5d_row17_col4\" class=\"data row17 col4\" >-0.0005</td>\n",
       "      <td id=\"T_4ed5d_row17_col5\" class=\"data row17 col5\" >0.2532</td>\n",
       "      <td id=\"T_4ed5d_row17_col6\" class=\"data row17 col6\" >0.2106</td>\n",
       "      <td id=\"T_4ed5d_row17_col7\" class=\"data row17 col7\" >0.0200</td>\n",
       "    </tr>\n",
       "  </tbody>\n",
       "</table>\n"
      ],
      "text/plain": [
       "<pandas.io.formats.style.Styler at 0x7fc6719f7af0>"
      ]
     },
     "metadata": {},
     "output_type": "display_data"
    },
    {
     "data": {
      "application/vnd.jupyter.widget-view+json": {
       "model_id": "",
       "version_major": 2,
       "version_minor": 0
      },
      "text/plain": [
       "Processing:   0%|          | 0/77 [00:00<?, ?it/s]"
      ]
     },
     "metadata": {},
     "output_type": "display_data"
    },
    {
     "data": {
      "text/plain": [
       "DecisionTreeRegressor(random_state=1)"
      ]
     },
     "execution_count": 14,
     "metadata": {},
     "output_type": "execute_result"
    }
   ],
   "source": [
    "from pycaret.regression import *\n",
    "\n",
    "exp_clf101=setup(data=xy, target='CO2 Emission Grams/Mile', session_id=1)\n",
    "\n",
    "compare_models()"
   ]
  },
  {
   "cell_type": "code",
   "execution_count": 15,
   "metadata": {},
   "outputs": [
    {
     "data": {
      "text/html": [],
      "text/plain": [
       "<IPython.core.display.HTML object>"
      ]
     },
     "metadata": {},
     "output_type": "display_data"
    },
    {
     "data": {
      "text/html": [
       "<style type=\"text/css\">\n",
       "#T_5b61c_row10_col0, #T_5b61c_row10_col1, #T_5b61c_row10_col2, #T_5b61c_row10_col3, #T_5b61c_row10_col4, #T_5b61c_row10_col5 {\n",
       "  background: yellow;\n",
       "}\n",
       "</style>\n",
       "<table id=\"T_5b61c\">\n",
       "  <thead>\n",
       "    <tr>\n",
       "      <th class=\"blank level0\" >&nbsp;</th>\n",
       "      <th id=\"T_5b61c_level0_col0\" class=\"col_heading level0 col0\" >MAE</th>\n",
       "      <th id=\"T_5b61c_level0_col1\" class=\"col_heading level0 col1\" >MSE</th>\n",
       "      <th id=\"T_5b61c_level0_col2\" class=\"col_heading level0 col2\" >RMSE</th>\n",
       "      <th id=\"T_5b61c_level0_col3\" class=\"col_heading level0 col3\" >R2</th>\n",
       "      <th id=\"T_5b61c_level0_col4\" class=\"col_heading level0 col4\" >RMSLE</th>\n",
       "      <th id=\"T_5b61c_level0_col5\" class=\"col_heading level0 col5\" >MAPE</th>\n",
       "    </tr>\n",
       "    <tr>\n",
       "      <th class=\"index_name level0\" >Fold</th>\n",
       "      <th class=\"blank col0\" >&nbsp;</th>\n",
       "      <th class=\"blank col1\" >&nbsp;</th>\n",
       "      <th class=\"blank col2\" >&nbsp;</th>\n",
       "      <th class=\"blank col3\" >&nbsp;</th>\n",
       "      <th class=\"blank col4\" >&nbsp;</th>\n",
       "      <th class=\"blank col5\" >&nbsp;</th>\n",
       "    </tr>\n",
       "  </thead>\n",
       "  <tbody>\n",
       "    <tr>\n",
       "      <th id=\"T_5b61c_level0_row0\" class=\"row_heading level0 row0\" >0</th>\n",
       "      <td id=\"T_5b61c_row0_col0\" class=\"data row0 col0\" >0.8667</td>\n",
       "      <td id=\"T_5b61c_row0_col1\" class=\"data row0 col1\" >7.6261</td>\n",
       "      <td id=\"T_5b61c_row0_col2\" class=\"data row0 col2\" >2.7615</td>\n",
       "      <td id=\"T_5b61c_row0_col3\" class=\"data row0 col3\" >0.9995</td>\n",
       "      <td id=\"T_5b61c_row0_col4\" class=\"data row0 col4\" >0.0062</td>\n",
       "      <td id=\"T_5b61c_row0_col5\" class=\"data row0 col5\" >0.0021</td>\n",
       "    </tr>\n",
       "    <tr>\n",
       "      <th id=\"T_5b61c_level0_row1\" class=\"row_heading level0 row1\" >1</th>\n",
       "      <td id=\"T_5b61c_row1_col0\" class=\"data row1 col0\" >0.7636</td>\n",
       "      <td id=\"T_5b61c_row1_col1\" class=\"data row1 col1\" >10.6746</td>\n",
       "      <td id=\"T_5b61c_row1_col2\" class=\"data row1 col2\" >3.2672</td>\n",
       "      <td id=\"T_5b61c_row1_col3\" class=\"data row1 col3\" >0.9992</td>\n",
       "      <td id=\"T_5b61c_row1_col4\" class=\"data row1 col4\" >0.0073</td>\n",
       "      <td id=\"T_5b61c_row1_col5\" class=\"data row1 col5\" >0.0018</td>\n",
       "    </tr>\n",
       "    <tr>\n",
       "      <th id=\"T_5b61c_level0_row2\" class=\"row_heading level0 row2\" >2</th>\n",
       "      <td id=\"T_5b61c_row2_col0\" class=\"data row2 col0\" >0.8988</td>\n",
       "      <td id=\"T_5b61c_row2_col1\" class=\"data row2 col1\" >8.8331</td>\n",
       "      <td id=\"T_5b61c_row2_col2\" class=\"data row2 col2\" >2.9720</td>\n",
       "      <td id=\"T_5b61c_row2_col3\" class=\"data row2 col3\" >0.9994</td>\n",
       "      <td id=\"T_5b61c_row2_col4\" class=\"data row2 col4\" >0.0111</td>\n",
       "      <td id=\"T_5b61c_row2_col5\" class=\"data row2 col5\" >0.0023</td>\n",
       "    </tr>\n",
       "    <tr>\n",
       "      <th id=\"T_5b61c_level0_row3\" class=\"row_heading level0 row3\" >3</th>\n",
       "      <td id=\"T_5b61c_row3_col0\" class=\"data row3 col0\" >0.7852</td>\n",
       "      <td id=\"T_5b61c_row3_col1\" class=\"data row3 col1\" >7.6572</td>\n",
       "      <td id=\"T_5b61c_row3_col2\" class=\"data row3 col2\" >2.7672</td>\n",
       "      <td id=\"T_5b61c_row3_col3\" class=\"data row3 col3\" >0.9994</td>\n",
       "      <td id=\"T_5b61c_row3_col4\" class=\"data row3 col4\" >0.0063</td>\n",
       "      <td id=\"T_5b61c_row3_col5\" class=\"data row3 col5\" >0.0019</td>\n",
       "    </tr>\n",
       "    <tr>\n",
       "      <th id=\"T_5b61c_level0_row4\" class=\"row_heading level0 row4\" >4</th>\n",
       "      <td id=\"T_5b61c_row4_col0\" class=\"data row4 col0\" >0.7499</td>\n",
       "      <td id=\"T_5b61c_row4_col1\" class=\"data row4 col1\" >9.2267</td>\n",
       "      <td id=\"T_5b61c_row4_col2\" class=\"data row4 col2\" >3.0376</td>\n",
       "      <td id=\"T_5b61c_row4_col3\" class=\"data row4 col3\" >0.9993</td>\n",
       "      <td id=\"T_5b61c_row4_col4\" class=\"data row4 col4\" >0.0071</td>\n",
       "      <td id=\"T_5b61c_row4_col5\" class=\"data row4 col5\" >0.0018</td>\n",
       "    </tr>\n",
       "    <tr>\n",
       "      <th id=\"T_5b61c_level0_row5\" class=\"row_heading level0 row5\" >5</th>\n",
       "      <td id=\"T_5b61c_row5_col0\" class=\"data row5 col0\" >0.9198</td>\n",
       "      <td id=\"T_5b61c_row5_col1\" class=\"data row5 col1\" >12.0689</td>\n",
       "      <td id=\"T_5b61c_row5_col2\" class=\"data row5 col2\" >3.4740</td>\n",
       "      <td id=\"T_5b61c_row5_col3\" class=\"data row5 col3\" >0.9991</td>\n",
       "      <td id=\"T_5b61c_row5_col4\" class=\"data row5 col4\" >0.0076</td>\n",
       "      <td id=\"T_5b61c_row5_col5\" class=\"data row5 col5\" >0.0021</td>\n",
       "    </tr>\n",
       "    <tr>\n",
       "      <th id=\"T_5b61c_level0_row6\" class=\"row_heading level0 row6\" >6</th>\n",
       "      <td id=\"T_5b61c_row6_col0\" class=\"data row6 col0\" >0.7916</td>\n",
       "      <td id=\"T_5b61c_row6_col1\" class=\"data row6 col1\" >9.2577</td>\n",
       "      <td id=\"T_5b61c_row6_col2\" class=\"data row6 col2\" >3.0427</td>\n",
       "      <td id=\"T_5b61c_row6_col3\" class=\"data row6 col3\" >0.9993</td>\n",
       "      <td id=\"T_5b61c_row6_col4\" class=\"data row6 col4\" >0.0078</td>\n",
       "      <td id=\"T_5b61c_row6_col5\" class=\"data row6 col5\" >0.0019</td>\n",
       "    </tr>\n",
       "    <tr>\n",
       "      <th id=\"T_5b61c_level0_row7\" class=\"row_heading level0 row7\" >7</th>\n",
       "      <td id=\"T_5b61c_row7_col0\" class=\"data row7 col0\" >0.8701</td>\n",
       "      <td id=\"T_5b61c_row7_col1\" class=\"data row7 col1\" >8.5342</td>\n",
       "      <td id=\"T_5b61c_row7_col2\" class=\"data row7 col2\" >2.9213</td>\n",
       "      <td id=\"T_5b61c_row7_col3\" class=\"data row7 col3\" >0.9994</td>\n",
       "      <td id=\"T_5b61c_row7_col4\" class=\"data row7 col4\" >0.0068</td>\n",
       "      <td id=\"T_5b61c_row7_col5\" class=\"data row7 col5\" >0.0020</td>\n",
       "    </tr>\n",
       "    <tr>\n",
       "      <th id=\"T_5b61c_level0_row8\" class=\"row_heading level0 row8\" >8</th>\n",
       "      <td id=\"T_5b61c_row8_col0\" class=\"data row8 col0\" >0.7987</td>\n",
       "      <td id=\"T_5b61c_row8_col1\" class=\"data row8 col1\" >8.0594</td>\n",
       "      <td id=\"T_5b61c_row8_col2\" class=\"data row8 col2\" >2.8389</td>\n",
       "      <td id=\"T_5b61c_row8_col3\" class=\"data row8 col3\" >0.9994</td>\n",
       "      <td id=\"T_5b61c_row8_col4\" class=\"data row8 col4\" >0.0063</td>\n",
       "      <td id=\"T_5b61c_row8_col5\" class=\"data row8 col5\" >0.0018</td>\n",
       "    </tr>\n",
       "    <tr>\n",
       "      <th id=\"T_5b61c_level0_row9\" class=\"row_heading level0 row9\" >9</th>\n",
       "      <td id=\"T_5b61c_row9_col0\" class=\"data row9 col0\" >0.9210</td>\n",
       "      <td id=\"T_5b61c_row9_col1\" class=\"data row9 col1\" >9.5556</td>\n",
       "      <td id=\"T_5b61c_row9_col2\" class=\"data row9 col2\" >3.0912</td>\n",
       "      <td id=\"T_5b61c_row9_col3\" class=\"data row9 col3\" >0.9994</td>\n",
       "      <td id=\"T_5b61c_row9_col4\" class=\"data row9 col4\" >0.0074</td>\n",
       "      <td id=\"T_5b61c_row9_col5\" class=\"data row9 col5\" >0.0022</td>\n",
       "    </tr>\n",
       "    <tr>\n",
       "      <th id=\"T_5b61c_level0_row10\" class=\"row_heading level0 row10\" >Mean</th>\n",
       "      <td id=\"T_5b61c_row10_col0\" class=\"data row10 col0\" >0.8365</td>\n",
       "      <td id=\"T_5b61c_row10_col1\" class=\"data row10 col1\" >9.1494</td>\n",
       "      <td id=\"T_5b61c_row10_col2\" class=\"data row10 col2\" >3.0174</td>\n",
       "      <td id=\"T_5b61c_row10_col3\" class=\"data row10 col3\" >0.9994</td>\n",
       "      <td id=\"T_5b61c_row10_col4\" class=\"data row10 col4\" >0.0074</td>\n",
       "      <td id=\"T_5b61c_row10_col5\" class=\"data row10 col5\" >0.0020</td>\n",
       "    </tr>\n",
       "    <tr>\n",
       "      <th id=\"T_5b61c_level0_row11\" class=\"row_heading level0 row11\" >Std</th>\n",
       "      <td id=\"T_5b61c_row11_col0\" class=\"data row11 col0\" >0.0624</td>\n",
       "      <td id=\"T_5b61c_row11_col1\" class=\"data row11 col1\" >1.3132</td>\n",
       "      <td id=\"T_5b61c_row11_col2\" class=\"data row11 col2\" >0.2118</td>\n",
       "      <td id=\"T_5b61c_row11_col3\" class=\"data row11 col3\" >0.0001</td>\n",
       "      <td id=\"T_5b61c_row11_col4\" class=\"data row11 col4\" >0.0014</td>\n",
       "      <td id=\"T_5b61c_row11_col5\" class=\"data row11 col5\" >0.0002</td>\n",
       "    </tr>\n",
       "  </tbody>\n",
       "</table>\n"
      ],
      "text/plain": [
       "<pandas.io.formats.style.Styler at 0x7fc6595d9e50>"
      ]
     },
     "metadata": {},
     "output_type": "display_data"
    },
    {
     "data": {
      "application/vnd.jupyter.widget-view+json": {
       "model_id": "",
       "version_major": 2,
       "version_minor": 0
      },
      "text/plain": [
       "Processing:   0%|          | 0/4 [00:00<?, ?it/s]"
      ]
     },
     "metadata": {},
     "output_type": "display_data"
    }
   ],
   "source": [
    "dt=create_model('dt')"
   ]
  },
  {
   "cell_type": "code",
   "execution_count": 16,
   "metadata": {},
   "outputs": [],
   "source": [
    "# usare Decision Tree Regressor pues Pycaret indica que es el más indicado"
   ]
  },
  {
   "cell_type": "markdown",
   "metadata": {},
   "source": [
    "Print your regression summary, and interpret the results. What are the most important varibles in your model and why? What can conclusions can you draw from your model and how confident in these conclusions are you? Add your responses as comments after your code."
   ]
  },
  {
   "cell_type": "code",
   "execution_count": 17,
   "metadata": {},
   "outputs": [
    {
     "data": {
      "text/plain": [
       "{'Year': 0.010081394997100169,\n",
       " 'Cylinders': 0.003849465552941549,\n",
       " 'Fuel Barrels/Year': 81.24147172670952,\n",
       " 'Combined MPG': 18.62207038033396,\n",
       " 'Fuel Cost/Year': 0.12252703240647386}"
      ]
     },
     "execution_count": 17,
     "metadata": {},
     "output_type": "execute_result"
    }
   ],
   "source": [
    "dict(zip(x.columns, dt.feature_importances_*100))"
   ]
  },
  {
   "cell_type": "code",
   "execution_count": 18,
   "metadata": {},
   "outputs": [],
   "source": [
    "# 'Fuel Barrels/Year' es la variable mas importante explicando el 81%de y. Tan solo esta y Combined MPG \n",
    "# parecen ser realmente importantes"
   ]
  },
  {
   "cell_type": "markdown",
   "metadata": {},
   "source": [
    "## Bonus Challenge: Error Analysis"
   ]
  },
  {
   "cell_type": "markdown",
   "metadata": {},
   "source": [
    "I am suspicious about the last few parties I have thrown: it seems that the more people I invite the more people are unable to attend. To know if my hunch is supported by data, I have decided to do an analysis. I have collected my data in the table below, where X is the number of people I invited, and Y is the number of people who attended. \n",
    "\n",
    "|  X |  Y |\n",
    "|----|----|\n",
    "| 1  |  1 |\n",
    "| 3  |  2 |\n",
    "| 4  |  4 |\n",
    "| 6  |  4 |\n",
    "| 8  |  5 |\n",
    "| 9  |  7 |\n",
    "| 11 |  8 |\n",
    "| 14 |  13 |"
   ]
  },
  {
   "cell_type": "markdown",
   "metadata": {},
   "source": [
    "We want to know if the relationship modeled by the two random variables is linear or not, and therefore if it is appropriate to model it with a linear regression. \n",
    "First, build a dataframe with the data. "
   ]
  },
  {
   "cell_type": "code",
   "execution_count": 27,
   "metadata": {},
   "outputs": [],
   "source": [
    "df = pd.DataFrame({'X': [1, 3, 4, 6, 8, 9, 11, 14], 'Y': [1, 2, 4, 4, 5, 7, 8, 13]})"
   ]
  },
  {
   "cell_type": "markdown",
   "metadata": {},
   "source": [
    "Draw a dispersion diagram (scatter plot) for the data, and fit a regression line."
   ]
  },
  {
   "cell_type": "code",
   "execution_count": 30,
   "metadata": {},
   "outputs": [
    {
     "data": {
      "image/png": "[encoded data removed]",
      "text/plain": [
       "<Figure size 800x550 with 1 Axes>"
      ]
     },
     "metadata": {},
     "output_type": "display_data"
    }
   ],
   "source": [
    "x = df['X']\n",
    "y = df['Y']\n",
    "\n",
    "x = sm.add_constant(df.X)\n",
    "\n",
    "modelo = sm.OLS(y, x).fit()\n",
    "\n",
    "pred = modelo.predict(x)\n",
    "\n",
    "plt.scatter(x=df['X'], y=df['Y'])\n",
    "plt.plot(df['X'], pred, c='r')\n",
    "\n",
    "plt.xlabel('Age')\n",
    "plt.ylabel('Tardies')\n",
    "plt.title('Student Data Scatter Plot')\n",
    "\n",
    "plt.show()"
   ]
  },
  {
   "cell_type": "markdown",
   "metadata": {},
   "source": [
    "What do you see? What does this plot tell you about the likely relationship between the variables? Print the results from your regression."
   ]
  },
  {
   "cell_type": "code",
   "execution_count": 21,
   "metadata": {},
   "outputs": [],
   "source": [
    "# Parece que si que estamos ante una regresión lineal "
   ]
  },
  {
   "cell_type": "markdown",
   "metadata": {},
   "source": [
    "Do you see any problematic points, or outliers, in your data? Remove these points and recalculate your regression. Print the new dispersion diagram with your new model and the results of your model. "
   ]
  },
  {
   "cell_type": "code",
   "execution_count": 22,
   "metadata": {},
   "outputs": [],
   "source": [
    "# Ningún punto se escapa excesivamente de la recta"
   ]
  },
  {
   "cell_type": "markdown",
   "metadata": {},
   "source": [
    "What changed? Based on the results of the two models and your graphs, what can you say about the form of the data with the problematic point and without it?"
   ]
  },
  {
   "cell_type": "code",
   "execution_count": 23,
   "metadata": {},
   "outputs": [],
   "source": [
    "# Your response here. "
   ]
  }
 ],
 "metadata": {
  "kernelspec": {
   "display_name": "Python 3 (ipykernel)",
   "language": "python",
   "name": "python3"
  },
  "language_info": {
   "codemirror_mode": {
    "name": "ipython",
    "version": 3
   },
   "file_extension": ".py",
   "mimetype": "text/x-python",
   "name": "python",
   "nbconvert_exporter": "python",
   "pygments_lexer": "ipython3",
   "version": "3.9.13"
  }
 },
 "nbformat": 4,
 "nbformat_minor": 2
}
